{
 "cells": [
  {
   "cell_type": "raw",
   "id": "dd32eacb-7801-438d-9842-2539642a5be9",
   "metadata": {},
   "source": [
    "Q1:\n",
    "\n",
    "def keyword is used to create a function"
   ]
  },
  {
   "cell_type": "code",
   "execution_count": 5,
   "id": "04fcdea5-9426-400a-8605-92e15f53d5c1",
   "metadata": {},
   "outputs": [],
   "source": [
    "def findOdds():\n",
    "    oddlist = []\n",
    "    for i in range(1,25):\n",
    "        if(i%2 != 0):\n",
    "            oddlist.append(i)\n",
    "        else:\n",
    "            continue\n",
    "    return oddlist"
   ]
  },
  {
   "cell_type": "raw",
   "id": "8d6305d8-6504-42d0-9064-6f0b2c72f0d3",
   "metadata": {},
   "source": [
    "Q2:\n",
    "    *args is used in some program because , it helps to pass number of arguments into a function without declaring them all together.\n",
    "    **kwargs helps to pass many arguments into a function but it arranges them into a key value pair , i.e., like a dictionary.\n",
    "    \n",
    "for example :"
   ]
  },
  {
   "cell_type": "code",
   "execution_count": 10,
   "id": "ec66f548-c4a3-46d7-917c-c19fe0041c25",
   "metadata": {},
   "outputs": [],
   "source": [
    "def test1(*args):\n",
    "    sum = 0\n",
    "    for i in args:\n",
    "        sum += i\n",
    "    return sum"
   ]
  },
  {
   "cell_type": "code",
   "execution_count": 30,
   "id": "0f8634ab-3e2f-4040-9145-cbe2f31c0adc",
   "metadata": {},
   "outputs": [],
   "source": [
    "def test2(**kwargs):\n",
    "    keys = list(kwargs.keys())\n",
    "    for i in keys:\n",
    "        print(kwargs.get(i))"
   ]
  },
  {
   "cell_type": "code",
   "execution_count": 31,
   "id": "74afce86-c78e-444f-9dbb-8f52ef0ad2f2",
   "metadata": {},
   "outputs": [
    {
     "name": "stdout",
     "output_type": "stream",
     "text": [
      "1\n",
      "2\n",
      "3\n"
     ]
    }
   ],
   "source": [
    "test2(a=1, b=2, c=3)"
   ]
  },
  {
   "cell_type": "raw",
   "id": "43d1e288-e94b-4397-aa46-0489e5667b79",
   "metadata": {},
   "source": [
    "Q3:\n",
    "    Iterator in python is an object which is used to loop over an iterable object and iterator object retains their state and can recognise their current position during an iteration.\n",
    "    \n",
    "    Method used to initialise iterator object is \"__iter__()\" and method used for iteration is \"next()\""
   ]
  },
  {
   "cell_type": "code",
   "execution_count": 35,
   "id": "6ce63b9e-4ec9-43ef-9305-292eb4491836",
   "metadata": {},
   "outputs": [
    {
     "name": "stdout",
     "output_type": "stream",
     "text": [
      "2\n",
      "4\n",
      "6\n",
      "8\n",
      "10\n"
     ]
    }
   ],
   "source": [
    "L = [2, 4, 6, 8, 10, 12, 14, 16, 18, 20]\n",
    "\n",
    "iterlist = L.__iter__()\n",
    "\n",
    "print(next(iterlist))\n",
    "print(next(iterlist))\n",
    "print(next(iterlist))\n",
    "print(next(iterlist))\n",
    "print(next(iterlist))"
   ]
  },
  {
   "cell_type": "raw",
   "id": "67dba995-aa1a-44be-9df7-0eb271e4dd2a",
   "metadata": {},
   "source": [
    "Q4:\n",
    "    Generator function in python is a function that produce its output one by one during an execution of a program itself , it doesn't store its output during the runtime , so it save space and as well as runtime also."
   ]
  },
  {
   "cell_type": "code",
   "execution_count": 19,
   "id": "0673e0f4-c2fb-47f7-9d6b-9eaf62b188cf",
   "metadata": {},
   "outputs": [
    {
     "name": "stdout",
     "output_type": "stream",
     "text": [
      "0\n",
      "0\n",
      "0\n",
      "0\n",
      "0\n",
      "0\n",
      "0\n",
      "0\n",
      "0\n",
      "0\n",
      "0\n",
      "0\n",
      "0\n",
      "0\n",
      "0\n",
      "0\n",
      "0\n",
      "0\n",
      "0\n",
      "0\n",
      "0\n",
      "0\n",
      "0\n",
      "0\n",
      "0\n",
      "0\n",
      "0\n",
      "0\n",
      "0\n",
      "0\n",
      "0\n",
      "0\n",
      "0\n",
      "0\n"
     ]
    }
   ],
   "source": [
    "def gen():\n",
    "    List = []\n",
    "    for i in range(100):\n",
    "        if(i % 3 == 0):\n",
    "            yield i\n",
    "            List.append(i)\n",
    "    print(List)\n",
    "        \n",
    "        \n",
    "    "
   ]
  },
  {
   "cell_type": "code",
   "execution_count": 24,
   "id": "90295f04-295a-4fbe-8c6d-aef709a6dcbe",
   "metadata": {},
   "outputs": [
    {
     "name": "stdout",
     "output_type": "stream",
     "text": [
      "5\n",
      "5\n",
      "5\n",
      "5\n",
      "5\n",
      "5\n",
      "5\n",
      "5\n",
      "5\n"
     ]
    }
   ],
   "source": [
    "def my_generator():\n",
    "    '''\n",
    "    This generator function yields multiples of 5 in the range 1 to 50\n",
    "    '''\n",
    "    \n",
    "    for i in range(1,50):\n",
    "        if i%5==0:\n",
    "            yield i\n",
    "\n",
    "for each_num in my_generator():\n",
    "    print(each_num)\n"
   ]
  },
  {
   "cell_type": "raw",
   "id": "8be59056-0eb7-4eac-991d-f7a409765970",
   "metadata": {},
   "source": [
    "Q5:"
   ]
  },
  {
   "cell_type": "code",
   "execution_count": 1,
   "id": "937370a8-ed5c-421d-8545-8cf519717d75",
   "metadata": {},
   "outputs": [
    {
     "name": "stdout",
     "output_type": "stream",
     "text": [
      "2\n",
      "3\n",
      "5\n",
      "7\n",
      "11\n",
      "13\n",
      "17\n",
      "19\n",
      "23\n",
      "29\n",
      "31\n",
      "37\n",
      "41\n",
      "43\n",
      "47\n",
      "53\n",
      "59\n",
      "61\n",
      "67\n",
      "71\n"
     ]
    }
   ],
   "source": [
    "def prime_numbers():\n",
    "    '''\n",
    "    This generator function generates the first 20 prime numbers in the range 2 to 1000\n",
    "    '''\n",
    "    primes = []\n",
    "    for num in range(2, 1000):\n",
    "        for prime in primes:\n",
    "            if num % prime == 0:\n",
    "                break\n",
    "        else:\n",
    "            primes.append(num)\n",
    "            yield num\n",
    "\n",
    "# Print the first 20 prime numbers\n",
    "prime = prime_numbers()\n",
    "for i in range(1,21):\n",
    "    print(next(prime))"
   ]
  },
  {
   "cell_type": "raw",
   "id": "00001c92-50eb-41b8-9639-e88a55321f7c",
   "metadata": {},
   "source": [
    "Q6"
   ]
  },
  {
   "cell_type": "code",
   "execution_count": 62,
   "id": "34a5d7a2-b24e-473f-86cc-eaec4073dd9b",
   "metadata": {},
   "outputs": [
    {
     "name": "stdout",
     "output_type": "stream",
     "text": [
      "0, 1, 1, 2, 3, 5, 8, 13, 21, 34, "
     ]
    }
   ],
   "source": [
    "def fibonacci(n):\n",
    "    \n",
    "    i = 0\n",
    "    a, b = 0, 1\n",
    "    while(i < n):\n",
    "        yield a\n",
    "        a, b = b , a + b\n",
    "        i += 1\n",
    "for b in fibonacci(10):\n",
    "    print(b, end=', ')\n",
    "    "
   ]
  },
  {
   "cell_type": "raw",
   "id": "32c52363-0fc6-4365-8607-b58dd6a4716d",
   "metadata": {},
   "source": [
    "Q7. Write a List Comprehension to iterate through the given string: ‘pwskills’.\n",
    "Expected output: ['p', 'w', 's', 'k', 'i', 'l', 'l', 's']"
   ]
  },
  {
   "cell_type": "code",
   "execution_count": 64,
   "id": "b53b059f-65dc-4063-91b4-d79842852b3d",
   "metadata": {},
   "outputs": [],
   "source": [
    "s = 'pwskills'"
   ]
  },
  {
   "cell_type": "code",
   "execution_count": 73,
   "id": "84801cdc-b468-43bf-85e8-0e6dee00298e",
   "metadata": {},
   "outputs": [
    {
     "data": {
      "text/plain": [
       "['p', 'w', 's', 'k', 'i', 'l', 'l', 's']"
      ]
     },
     "execution_count": 73,
     "metadata": {},
     "output_type": "execute_result"
    }
   ],
   "source": [
    "[i for i in s]"
   ]
  },
  {
   "cell_type": "raw",
   "id": "4bdeac0b-3a40-4bf3-b6e9-aa335b0f1da2",
   "metadata": {},
   "source": [
    "Q8. Write a python program to check whether a given number is Palindrome or not using a while loop."
   ]
  },
  {
   "cell_type": "code",
   "execution_count": 6,
   "id": "3a29e186-efda-4046-b59d-ad1ce0f2816e",
   "metadata": {},
   "outputs": [
    {
     "name": "stdin",
     "output_type": "stream",
     "text": [
      "Enter a number : 1234556653421\n"
     ]
    },
    {
     "name": "stdout",
     "output_type": "stream",
     "text": [
      "It's not a palindrome\n"
     ]
    }
   ],
   "source": [
    "import math\n",
    "\n",
    "\n",
    "num = int(input(\"Enter a number :\"))\n",
    "new = num\n",
    "rev = 0\n",
    "while(num > 0):\n",
    "    rev = (rev*10) + num % 10\n",
    "    \n",
    "    num = math.trunc(num / 10)\n",
    "\n",
    "if(rev == new):\n",
    "    print(\"It's a plaindrome\")\n",
    "else:\n",
    "    print(\"It's not a palindrome\")"
   ]
  },
  {
   "cell_type": "raw",
   "id": "e4c6e055-94be-4ffb-ad3b-1b36a89fe5da",
   "metadata": {},
   "source": [
    "Q9"
   ]
  },
  {
   "cell_type": "code",
   "execution_count": 2,
   "id": "fbfb498a-55da-48e0-92d8-f7815cebcf51",
   "metadata": {},
   "outputs": [
    {
     "data": {
      "text/plain": [
       "[1,\n",
       " 2,\n",
       " 3,\n",
       " 4,\n",
       " 5,\n",
       " 6,\n",
       " 7,\n",
       " 8,\n",
       " 9,\n",
       " 10,\n",
       " 11,\n",
       " 12,\n",
       " 13,\n",
       " 14,\n",
       " 15,\n",
       " 16,\n",
       " 17,\n",
       " 18,\n",
       " 19,\n",
       " 20,\n",
       " 21,\n",
       " 22,\n",
       " 23,\n",
       " 24,\n",
       " 25,\n",
       " 26,\n",
       " 27,\n",
       " 28,\n",
       " 29,\n",
       " 30,\n",
       " 31,\n",
       " 32,\n",
       " 33,\n",
       " 34,\n",
       " 35,\n",
       " 36,\n",
       " 37,\n",
       " 38,\n",
       " 39,\n",
       " 40,\n",
       " 41,\n",
       " 42,\n",
       " 43,\n",
       " 44,\n",
       " 45,\n",
       " 46,\n",
       " 47,\n",
       " 48,\n",
       " 49,\n",
       " 50,\n",
       " 51,\n",
       " 52,\n",
       " 53,\n",
       " 54,\n",
       " 55,\n",
       " 56,\n",
       " 57,\n",
       " 58,\n",
       " 59,\n",
       " 60,\n",
       " 61,\n",
       " 62,\n",
       " 63,\n",
       " 64,\n",
       " 65,\n",
       " 66,\n",
       " 67,\n",
       " 68,\n",
       " 69,\n",
       " 70,\n",
       " 71,\n",
       " 72,\n",
       " 73,\n",
       " 74,\n",
       " 75,\n",
       " 76,\n",
       " 77,\n",
       " 78,\n",
       " 79,\n",
       " 80,\n",
       " 81,\n",
       " 82,\n",
       " 83,\n",
       " 84,\n",
       " 85,\n",
       " 86,\n",
       " 87,\n",
       " 88,\n",
       " 89,\n",
       " 90,\n",
       " 91,\n",
       " 92,\n",
       " 93,\n",
       " 94,\n",
       " 95,\n",
       " 96,\n",
       " 97,\n",
       " 98,\n",
       " 99,\n",
       " 100]"
      ]
     },
     "execution_count": 2,
     "metadata": {},
     "output_type": "execute_result"
    }
   ],
   "source": [
    "[i for i in range(1, 101)]"
   ]
  },
  {
   "cell_type": "code",
   "execution_count": null,
   "id": "02f8475c-a127-480f-9973-a036f721d9aa",
   "metadata": {},
   "outputs": [],
   "source": []
  }
 ],
 "metadata": {
  "kernelspec": {
   "display_name": "Python 3 (ipykernel)",
   "language": "python",
   "name": "python3"
  },
  "language_info": {
   "codemirror_mode": {
    "name": "ipython",
    "version": 3
   },
   "file_extension": ".py",
   "mimetype": "text/x-python",
   "name": "python",
   "nbconvert_exporter": "python",
   "pygments_lexer": "ipython3",
   "version": "3.10.8"
  }
 },
 "nbformat": 4,
 "nbformat_minor": 5
}
