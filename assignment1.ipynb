{
 "cells": [
  {
   "cell_type": "raw",
   "id": "3adc4d52-0fd0-4edc-8cb7-019870809efe",
   "metadata": {},
   "source": [
    "Q1(Ans): Guido van Rossum"
   ]
  },
  {
   "cell_type": "code",
   "execution_count": null,
   "id": "5f45c809-0c48-4ef6-a28b-91d17d1519dc",
   "metadata": {},
   "outputs": [],
   "source": [
    "Q2(Ans): Object-oriented programming, structured programming and Functional."
   ]
  },
  {
   "cell_type": "code",
   "execution_count": null,
   "id": "b189ee96-8c80-4f82-8345-736833eec5d3",
   "metadata": {},
   "outputs": [],
   "source": [
    "Q3(Ans): Yes , python is a case sensitive langauge."
   ]
  },
  {
   "cell_type": "code",
   "execution_count": null,
   "id": "6372eed1-7d2c-48b3-a5d7-7496d915713f",
   "metadata": {},
   "outputs": [],
   "source": [
    "Q4(Ans): \".py\""
   ]
  },
  {
   "cell_type": "code",
   "execution_count": null,
   "id": "f9312f41-445d-4627-a233-5c0ede3764bd",
   "metadata": {},
   "outputs": [],
   "source": [
    "Q5(Ans): Python codes are interpreted"
   ]
  },
  {
   "cell_type": "code",
   "execution_count": null,
   "id": "cba59ac1-882d-4c25-8604-28647ed6063f",
   "metadata": {},
   "outputs": [],
   "source": [
    "Q6(Ans): Statements, Indentation and Comments"
   ]
  },
  {
   "cell_type": "code",
   "execution_count": null,
   "id": "3dd93c28-aaf0-435f-91ac-942c48c8d1fe",
   "metadata": {},
   "outputs": [],
   "source": [
    "Q7(Ans): \"#\" "
   ]
  },
  {
   "cell_type": "code",
   "execution_count": null,
   "id": "d7fd3a63-c316-40da-b85c-d4afad753741",
   "metadata": {},
   "outputs": [],
   "source": [
    "Q8(Ans): \"python_version()\" from platform library\n"
   ]
  },
  {
   "cell_type": "code",
   "execution_count": null,
   "id": "d3a471b2-820b-4aeb-9e33-994a7734195f",
   "metadata": {},
   "outputs": [],
   "source": [
    "Q9(Ans): \"Lambda\""
   ]
  },
  {
   "cell_type": "code",
   "execution_count": null,
   "id": "faadb16d-8c59-4042-aeb3-9cafab70491b",
   "metadata": {},
   "outputs": [],
   "source": [
    "Q10(Ans): \"preferred installer program\""
   ]
  },
  {
   "cell_type": "code",
   "execution_count": null,
   "id": "3411c0f0-a8df-4013-bf32-21025960e339",
   "metadata": {},
   "outputs": [],
   "source": [
    "Q11(Ans): \"print(), input(), type(), int(), str(), isupper(), count(), index()\""
   ]
  },
  {
   "cell_type": "code",
   "execution_count": null,
   "id": "64861676-1cbe-4009-9068-2a0a1539802d",
   "metadata": {},
   "outputs": [],
   "source": [
    "Q12(Ans): \"79 characters\""
   ]
  },
  {
   "cell_type": "code",
   "execution_count": null,
   "id": "3c41bbf4-47b4-4302-af2f-f7c5fb4f47f7",
   "metadata": {},
   "outputs": [],
   "source": [
    "Q13(Ans): \n",
    "It's Simple english like syntax\n",
    "It's Easy to Use\n",
    "It's Highly Compatible \n",
    "It is Object-Oriented\n",
    "It has Lots of Libraries\n",
    "It has Built-in Data Structures\n",
    "It's Widely Applicable\n",
    "It Increases Speed and Productivity\n",
    "It's Easy to Learn "
   ]
  },
  {
   "cell_type": "code",
   "execution_count": null,
   "id": "8a162e1d-4152-4b53-9c0d-b8579625d750",
   "metadata": {},
   "outputs": [],
   "source": [
    "Q14(Ans): Memory management in Python involves a private heap containing all Python objects and data structures.\n",
    "The management of this private heap is ensured internally by the Python memory manager."
   ]
  },
  {
   "cell_type": "code",
   "execution_count": null,
   "id": "56dbf995-2ef3-4908-ba81-85806a52101c",
   "metadata": {},
   "outputs": [],
   "source": [
    "Q15(Ans): Install python from this link https://www.python.org/downloads/\n",
    "          After this, install it on your PC. Look for the location where PYTHON has \n",
    "          been installed on your PC using tge following command on your command prompt: cmd python.\n",
    " \n",
    "To set path variable :\n",
    "\n",
    "    1. Right-clicking This PC and going to Properties.\n",
    "\n",
    "    2. Clicking on the Advanced system settings in the menu on the left.\n",
    "\n",
    "    3. Clicking on the Environment Variables button o​n the bottom right.\n",
    "\n",
    "    4. In the System variables section, selecting the Path variable and clicking on Edit. \n",
    "       The next screen will show all the directories that are currently a part of the PATH variable.\n",
    "\n",
    "    5. Clicking on New and entering Python’s install directory.\n",
    "\n"
   ]
  },
  {
   "cell_type": "code",
   "execution_count": null,
   "id": "68b9cf8f-6346-4de3-8cbc-55ac2f4ed98c",
   "metadata": {},
   "outputs": [],
   "source": [
    "Q16(Ans): Yes , indentation is must in python."
   ]
  },
  {
   "cell_type": "code",
   "execution_count": null,
   "id": "3541fda4-9cc5-4fee-b781-c95f7ad54670",
   "metadata": {},
   "outputs": [],
   "source": []
  },
  {
   "cell_type": "code",
   "execution_count": null,
   "id": "380bdb80-b555-47d9-8b10-0331f9eb95f4",
   "metadata": {},
   "outputs": [],
   "source": []
  },
  {
   "cell_type": "code",
   "execution_count": null,
   "id": "afd225ab-1a0d-4cd2-a5bb-7efefc99400e",
   "metadata": {},
   "outputs": [],
   "source": []
  },
  {
   "cell_type": "code",
   "execution_count": null,
   "id": "92696939-cf3a-4cbc-9e0f-186fa7fbf097",
   "metadata": {},
   "outputs": [],
   "source": []
  }
 ],
 "metadata": {
  "kernelspec": {
   "display_name": "Python 3 (ipykernel)",
   "language": "python",
   "name": "python3"
  },
  "language_info": {
   "codemirror_mode": {
    "name": "ipython",
    "version": 3
   },
   "file_extension": ".py",
   "mimetype": "text/x-python",
   "name": "python",
   "nbconvert_exporter": "python",
   "pygments_lexer": "ipython3",
   "version": "3.10.8"
  }
 },
 "nbformat": 4,
 "nbformat_minor": 5
}
