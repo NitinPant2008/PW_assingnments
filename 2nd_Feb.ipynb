{
 "cells": [
  {
   "cell_type": "raw",
   "id": "2d363f69-73ae-4336-933e-ae42fd28de45",
   "metadata": {},
   "source": [
    "Q1:\n",
    "for loop is used when we something over and over for a fixed number of time, but in while loop we don't know for how long a condition will evaluates to true.\n",
    "\n",
    "example of for loop "
   ]
  },
  {
   "cell_type": "code",
   "execution_count": 2,
   "id": "135a4eff-c13b-4be9-9bf1-7d658c0bcbff",
   "metadata": {},
   "outputs": [
    {
     "name": "stdout",
     "output_type": "stream",
     "text": [
      "0\n",
      "1\n",
      "2\n",
      "3\n",
      "4\n"
     ]
    }
   ],
   "source": [
    "for i in range(5):\n",
    "    print(i)"
   ]
  },
  {
   "cell_type": "code",
   "execution_count": 3,
   "id": "e09e1cba-02ba-42f6-aea9-189b0c6e9f23",
   "metadata": {},
   "outputs": [
    {
     "name": "stdout",
     "output_type": "stream",
     "text": [
      "0\n",
      "1\n",
      "2\n",
      "3\n",
      "4\n"
     ]
    }
   ],
   "source": [
    "i = 5\n",
    "count = 0\n",
    "while(count<5):\n",
    "    print(count)\n",
    "    count += 1"
   ]
  },
  {
   "cell_type": "raw",
   "id": "3454135d-c968-45ea-8229-c123ce8b07c8",
   "metadata": {},
   "source": [
    "Q2:\n",
    "for loop "
   ]
  },
  {
   "cell_type": "code",
   "execution_count": 6,
   "id": "b898e8cb-5bec-4f56-a485-53c460290d03",
   "metadata": {},
   "outputs": [
    {
     "name": "stdout",
     "output_type": "stream",
     "text": [
      "55\n",
      "3628800\n"
     ]
    }
   ],
   "source": [
    "sum = 0\n",
    "product = 1\n",
    "for i in range(1,11):\n",
    "    sum += i\n",
    "    product *= i\n",
    "print(sum)\n",
    "print(product)\n",
    "    "
   ]
  },
  {
   "cell_type": "raw",
   "id": "3d5778e1-fe84-4327-9aff-6bc336f6ed3b",
   "metadata": {},
   "source": [
    "while loop"
   ]
  },
  {
   "cell_type": "code",
   "execution_count": 9,
   "id": "ee07d236-adb0-494b-bffd-53cdcf387359",
   "metadata": {},
   "outputs": [
    {
     "name": "stdout",
     "output_type": "stream",
     "text": [
      "55\n",
      "3628800\n"
     ]
    }
   ],
   "source": [
    "sum = 0 \n",
    "product = 1\n",
    "count = 1\n",
    "while(count <=10):\n",
    "    sum += count \n",
    "    product *= count\n",
    "    count += 1\n",
    "print(sum)\n",
    "print(product)"
   ]
  },
  {
   "cell_type": "raw",
   "id": "d0dec87d-3319-481d-830f-27485e9d0778",
   "metadata": {},
   "source": [
    "Q3:\n",
    "    "
   ]
  },
  {
   "cell_type": "code",
   "execution_count": 4,
   "id": "ee80cad2-73dc-4593-aa88-a5b0b583f2b0",
   "metadata": {},
   "outputs": [
    {
     "name": "stdin",
     "output_type": "stream",
     "text": [
      "Units of Electricity consumed in a month :  300\n"
     ]
    },
    {
     "name": "stdout",
     "output_type": "stream",
     "text": [
      "2050.0\n"
     ]
    }
   ],
   "source": [
    "units = int(input(\"Units of Electricity consumed in a month : \"))\n",
    "total = 0\n",
    "rate100 = 4.5\n",
    "rate200 = 6\n",
    "rate300 = 10\n",
    "above300 = 20\n",
    "if(units <= 100):    \n",
    "    bill = rate100 * units\n",
    "    print(bill)\n",
    "elif(units > 100 and units <= 200):\n",
    "    \n",
    "    \n",
    "    bill_200 = (units - 100) * rate200\n",
    "    total = bill200 + (rate100*100)\n",
    "    print(total)\n",
    "elif(units > 200 and units <= 300):\n",
    "    bill_300 = (units - 200) * rate300\n",
    "    total = bill_300 + (rate200 * 100) + (rate100 * 100)\n",
    "    print(total)\n",
    "else:\n",
    "    bill_above300 = (units - 300) * above300\n",
    "    total = bill_above300 + (rate300 * 100) + (rate200 * 100) + (rate100 * 100)\n",
    "    print(total)\n",
    "    \n",
    "    \n",
    "\n",
    "\n"
   ]
  },
  {
   "cell_type": "raw",
   "id": "862ff565-d4c3-482e-9ead-ae1c59e2523e",
   "metadata": {},
   "source": [
    "Q4:\n",
    "for loop"
   ]
  },
  {
   "cell_type": "code",
   "execution_count": 9,
   "id": "08e97794-3fa2-4bf8-8fe6-8aa9bf3fc6e3",
   "metadata": {},
   "outputs": [
    {
     "name": "stdout",
     "output_type": "stream",
     "text": [
      "[2, 4, 5, 6, 8, 10, 12, 14, 15, 16, 18, 20, 22, 24, 25, 26, 28, 30, 32, 34, 35, 36, 38, 40, 42, 44, 45, 46, 48, 50, 52, 54, 55, 56, 58, 60, 62, 64, 65, 66, 68, 70, 72, 74, 75, 76, 78, 80, 82, 84, 85, 86, 88, 90, 92, 94, 95, 96, 98, 100]\n"
     ]
    }
   ],
   "source": [
    "l1 = list(range(1,101))\n",
    "l2 = []\n",
    "for i in l1:\n",
    "    if(i**3%4 == 0 or i**3%5 == 0):\n",
    "        l2.append(i)\n",
    "print(l2)"
   ]
  },
  {
   "cell_type": "raw",
   "id": "45b9e129-b0ca-431c-80d5-ebbc9337311a",
   "metadata": {},
   "source": [
    "while loop"
   ]
  },
  {
   "cell_type": "code",
   "execution_count": 11,
   "id": "c5da889e-8780-4788-b130-75e0958a44ca",
   "metadata": {},
   "outputs": [
    {
     "name": "stdout",
     "output_type": "stream",
     "text": [
      "[2, 4, 5, 6, 8, 10, 12, 14, 15, 16, 18, 20, 22, 24, 25, 26, 28, 30, 32, 34, 35, 36, 38, 40, 42, 44, 45, 46, 48, 50, 52, 54, 55, 56, 58, 60, 62, 64, 65, 66, 68, 70, 72, 74, 75, 76, 78, 80, 82, 84, 85, 86, 88, 90, 92, 94, 95, 96, 98, 100]\n"
     ]
    }
   ],
   "source": [
    "l1 = list(range(1,101))\n",
    "l2 = []\n",
    "count = 0\n",
    "while(count < 100):\n",
    "    if(l1[count]**3%4 == 0 or l1[count]**3%5 == 0):\n",
    "        l2.append(l1[count])\n",
    "    count += 1\n",
    "print(l2)"
   ]
  },
  {
   "cell_type": "raw",
   "id": "74819a9e-61b1-46aa-b1df-9ac5cc527964",
   "metadata": {},
   "source": [
    "Q5:"
   ]
  },
  {
   "cell_type": "code",
   "execution_count": 14,
   "id": "8c27870b-54e8-412a-9b04-1f31812835e3",
   "metadata": {},
   "outputs": [
    {
     "name": "stdout",
     "output_type": "stream",
     "text": [
      "11\n"
     ]
    }
   ],
   "source": [
    "string = \"I want to become a data scientist\"\n",
    "newstr = string.lower()\n",
    "count = 0\n",
    "for i in string:\n",
    "    if(i == \"a\" or i == \"e\" or i == \"i\" or i == \"o\" or i == \"u\"):\n",
    "        count += 1\n",
    "print(count)\n",
    "    "
   ]
  },
  {
   "cell_type": "code",
   "execution_count": null,
   "id": "29667ea9-e086-421c-a2a2-3fe259195800",
   "metadata": {},
   "outputs": [],
   "source": []
  },
  {
   "cell_type": "code",
   "execution_count": null,
   "id": "e47018f1-c042-4e59-b001-a92b0c515cf7",
   "metadata": {},
   "outputs": [],
   "source": []
  }
 ],
 "metadata": {
  "kernelspec": {
   "display_name": "Python 3 (ipykernel)",
   "language": "python",
   "name": "python3"
  },
  "language_info": {
   "codemirror_mode": {
    "name": "ipython",
    "version": 3
   },
   "file_extension": ".py",
   "mimetype": "text/x-python",
   "name": "python",
   "nbconvert_exporter": "python",
   "pygments_lexer": "ipython3",
   "version": "3.10.8"
  }
 },
 "nbformat": 4,
 "nbformat_minor": 5
}
