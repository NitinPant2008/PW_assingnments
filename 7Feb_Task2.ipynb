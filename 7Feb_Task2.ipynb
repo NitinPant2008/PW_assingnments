{
 "cells": [
  {
   "cell_type": "raw",
   "id": "1c761c0d-4a5b-4661-95b3-0b9950e0e940",
   "metadata": {},
   "source": [
    "Q1. You are writing code for a company. The requirement of the company is that you create a python function that will check whether the password entered by the user is correct or not. The function should take the password as input and return the string “Valid Password” if the entered password follows the below-given password guidelines else it should return “Invalid Password”.\n",
    "\n",
    "Note:\n",
    "\n",
    "1. The Password should contain at least two uppercase letters and at least two lowercase letters.\n",
    "2. The Password should contain at least a number and three special characters.\n",
    "3. The length of the password should be 10 characters long."
   ]
  },
  {
   "cell_type": "code",
   "execution_count": null,
   "id": "dc91c982-f0d6-4c07-8a5f-ebc76c3f23bb",
   "metadata": {},
   "outputs": [],
   "source": [
    "def encrypt():\n",
    "    string = input(\"Enter your password :\")\n",
    "    \n",
    "    length = len(string)\n",
    "    upperCount = 0\n",
    "    lowerCount = 0\n",
    "    numCount = 0\n",
    "    special = 0\n",
    "    \n",
    "    if (length != 10):\n",
    "        return \"Invalid Password !\"\n",
    "    \n",
    "    for i in string:\n",
    "        if (i.isupper() == True):\n",
    "            upperCount += 1\n",
    "            \n",
    "        elif (i.islower() == True):\n",
    "            lowerCount += 1\n",
    "            \n",
    "        elif (i.isnumeric() == True):\n",
    "            numCount +=1\n",
    "        \n",
    "        elif (i.isalnum() != True):\n",
    "            special += 1\n",
    "            \n",
    "    if(upperCount >= 2 and lowerCount >= 2 and numCount >= 1 and special == 3):\n",
    "        return \"Valid Password !\"\n",
    "    \n",
    "    else:\n",
    "        return \"Invalid Password !\"\n",
    "    \n",
    "            \n",
    "        \n",
    "            "
   ]
  },
  {
   "cell_type": "code",
   "execution_count": null,
   "id": "671772d3-42f2-4c7c-9369-0c3ca4e6a40d",
   "metadata": {},
   "outputs": [
    {
     "name": "stdin",
     "output_type": "stream",
     "text": [
      "Enter your password : NNiit1!@#m\n"
     ]
    },
    {
     "data": {
      "text/plain": [
       "'Valid Password !'"
      ]
     },
     "execution_count": 5,
     "metadata": {},
     "output_type": "execute_result"
    }
   ],
   "source": [
    "encrypt()"
   ]
  },
  {
   "cell_type": "raw",
   "id": "328f0ed4-91fd-4691-b98a-33c2a4e3ad6e",
   "metadata": {},
   "source": [
    "Q2. Solve the below-given questions using at least one of the following:\n",
    "\n",
    "(Lambda Function, Filter Function, Map Function, List Comprehension)\n",
    "\n",
    "1. Check if the string starts with a particular letter.\n",
    "2. Check if the string is numeric.\n",
    "3. Sort a list of tuples having fruit names and their quantity. [(\"mango\",99),(\"orange\",80), (\"grapes\",1000)]\n",
    "4. Find the squares of numbers from 1 to 10\n",
    "5. Find the cube root of numbers from 1 to 10\n",
    "6. Check if a given number is even.\n",
    "7. Filter odd numbers from the given list. [1,2,3,4,5,6,7,8,9,10]\n",
    "8. Sort a list of integers into positive and negative integer lists.\n",
    "   [1, 2, 3, 4, 5, 6, -1, -2, -3, -4, -5, 0]"
   ]
  },
  {
   "cell_type": "code",
   "execution_count": null,
   "id": "4aad6360-4ff7-4282-aa13-b9d62661106c",
   "metadata": {},
   "outputs": [],
   "source": []
  },
  {
   "cell_type": "code",
   "execution_count": 8,
   "id": "57368a8a-f3b6-4a74-8e23-4e35dcd60479",
   "metadata": {},
   "outputs": [
    {
     "name": "stdin",
     "output_type": "stream",
     "text": [
      "Enter a string to match: #\n"
     ]
    },
    {
     "name": "stdout",
     "output_type": "stream",
     "text": [
      "String starts with particular letter: True\n"
     ]
    }
   ],
   "source": [
    "#1. Check if the string starts with a particular letter.\n",
    "\n",
    "char = '#'\n",
    "string1 = input(\"Enter a string to match:\")\n",
    "starts_with = True if string1.startswith(char)==True else False\n",
    "print(\"String starts with particular letter:\",starts_with)"
   ]
  },
  {
   "cell_type": "code",
   "execution_count": null,
   "id": "b635cd4d-e07f-47ff-aba0-7221e239dd3b",
   "metadata": {},
   "outputs": [],
   "source": [
    "#2. Check if the string is numeric.\n",
    "\n",
    "input_string = input(\"Enter a string:\")\n",
    "is_numeric = any(list(map(lambda x: x.isnumeric(), input_string)))\n",
    "print('String is numeric:',is_numeric)"
   ]
  },
  {
   "cell_type": "code",
   "execution_count": 9,
   "id": "78f87592-e433-4c74-a18f-0a48f9cbeb25",
   "metadata": {},
   "outputs": [
    {
     "data": {
      "text/plain": [
       "[('orange', 80), ('mango', 99), ('grapes', 1000)]"
      ]
     },
     "execution_count": 9,
     "metadata": {},
     "output_type": "execute_result"
    }
   ],
   "source": [
    "#3. Sort a list of tuples having fruit names and their quantity.\n",
    "\n",
    "list_of_tuples = [('mango',99),('orange',80),('grapes',1000)]\n",
    "sorted(list_of_tuples, key=lambda x: x[1])"
   ]
  },
  {
   "cell_type": "code",
   "execution_count": 15,
   "id": "74e107ce-199e-4705-b320-87d3456d8505",
   "metadata": {},
   "outputs": [
    {
     "data": {
      "text/plain": [
       "[1, 4, 9, 16, 25, 36, 49, 64, 81, 100]"
      ]
     },
     "execution_count": 15,
     "metadata": {},
     "output_type": "execute_result"
    }
   ],
   "source": [
    "#4. Find the squares of numbers from 1 to 10.\n",
    "\n",
    "[i**2 for i in range(1, 11)]"
   ]
  },
  {
   "cell_type": "code",
   "execution_count": 25,
   "id": "594790b3-5617-4aa0-8fa3-cd1794b0aedb",
   "metadata": {},
   "outputs": [
    {
     "data": {
      "text/plain": [
       "[1.0,\n",
       " 1.2599210498948734,\n",
       " 1.4422495703074083,\n",
       " 1.5874010519681996,\n",
       " 1.7099759466766968,\n",
       " 1.8171205928321394,\n",
       " 1.9129311827723894,\n",
       " 2.0,\n",
       " 2.080083823051904,\n",
       " 2.1544346900318834]"
      ]
     },
     "execution_count": 25,
     "metadata": {},
     "output_type": "execute_result"
    }
   ],
   "source": [
    "#5. Find the cube root of numbers from 1 to 10.\n",
    "\n",
    "from numpy import cbrt\n",
    "[cbrt(i) for i in range(1,11)]\n"
   ]
  },
  {
   "cell_type": "code",
   "execution_count": 27,
   "id": "fdbc9804-29c6-45e0-9ea9-5eeb7a3a825a",
   "metadata": {},
   "outputs": [
    {
     "name": "stdin",
     "output_type": "stream",
     "text": [
      "Enter a number: 4\n"
     ]
    },
    {
     "name": "stdout",
     "output_type": "stream",
     "text": [
      "True\n"
     ]
    }
   ],
   "source": [
    "#6. Check if a given number is even.\n",
    "\n",
    "n = int(input(\"Enter a number:\"))\n",
    "even = lambda x: True if x%2==0 else False\n",
    "print(even(n))"
   ]
  },
  {
   "cell_type": "code",
   "execution_count": 30,
   "id": "beb35825-a02b-429a-9dac-0e2de9c54c01",
   "metadata": {},
   "outputs": [
    {
     "data": {
      "text/plain": [
       "[1, 3, 5, 7, 9]"
      ]
     },
     "execution_count": 30,
     "metadata": {},
     "output_type": "execute_result"
    }
   ],
   "source": [
    "#7. Filter odd numbers from the given list.\n",
    "\n",
    "list(filter(lambda x: x%2!=0, range(11)))"
   ]
  },
  {
   "cell_type": "code",
   "execution_count": 40,
   "id": "3a3e58f9-e138-468b-9e81-8cab2571172c",
   "metadata": {},
   "outputs": [
    {
     "name": "stdout",
     "output_type": "stream",
     "text": [
      "[1, 2, 3, 4, 5, 6, 0] [-1, -2, -3, -4, -5]\n"
     ]
    }
   ],
   "source": [
    "#Sort a list of integers into positive and negative integer lists.\n",
    "\n",
    "given_list = [1,2,3,4,5,6,-1,-2,-3,-4,-5,0]\n",
    "pos_list=[x for x in given_list if x>=0]\n",
    "neg_list=[x for x in given_list if x<0]\n",
    "print(pos_list,neg_list)"
   ]
  },
  {
   "cell_type": "code",
   "execution_count": null,
   "id": "dab55c6c-56d1-40c3-8dc5-7fde0d8b2e6a",
   "metadata": {},
   "outputs": [],
   "source": []
  }
 ],
 "metadata": {
  "kernelspec": {
   "display_name": "Python 3 (ipykernel)",
   "language": "python",
   "name": "python3"
  },
  "language_info": {
   "codemirror_mode": {
    "name": "ipython",
    "version": 3
   },
   "file_extension": ".py",
   "mimetype": "text/x-python",
   "name": "python",
   "nbconvert_exporter": "python",
   "pygments_lexer": "ipython3",
   "version": "3.10.8"
  }
 },
 "nbformat": 4,
 "nbformat_minor": 5
}
