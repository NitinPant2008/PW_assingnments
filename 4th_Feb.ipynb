{
 "cells": [
  {
   "cell_type": "raw",
   "id": "b5c9136f-4735-4f98-bc9c-9bbd7fbf498a",
   "metadata": {},
   "source": [
    "Q1:"
   ]
  },
  {
   "cell_type": "code",
   "execution_count": 20,
   "id": "c9b8dc30-da2f-4b33-a4dd-e1dc54f9e047",
   "metadata": {},
   "outputs": [
    {
     "data": {
      "text/plain": [
       "[('Virat Kohli', 24936),\n",
       " ('Jack Kallis', 25534),\n",
       " ('Ricky Ponting', 27483),\n",
       " ('Sachin Tendulkar', 34357)]"
      ]
     },
     "execution_count": 20,
     "metadata": {},
     "output_type": "execute_result"
    }
   ],
   "source": [
    "list1 = [('Sachin Tendulkar', 34357), ('Ricky Ponting', 27483), ('Jack Kallis', 25534), ('Virat Kohli', 24936)]\n",
    "\n",
    "list1.sort(key = lambda x : x[1])\n"
   ]
  },
  {
   "cell_type": "raw",
   "id": "eb09bd52-775d-46c9-8f41-140d973101c6",
   "metadata": {},
   "source": [
    "Q2:"
   ]
  },
  {
   "cell_type": "code",
   "execution_count": 3,
   "id": "f3c3dafa-42af-45cb-9be7-47f47c0255b2",
   "metadata": {},
   "outputs": [
    {
     "data": {
      "text/plain": [
       "[1, 4, 9, 16, 25, 36, 49, 64, 81, 100]"
      ]
     },
     "execution_count": 3,
     "metadata": {},
     "output_type": "execute_result"
    }
   ],
   "source": [
    "l1 = [1, 2, 3, 4, 5, 6, 7, 8, 9, 10]\n",
    "\n",
    "square = lambda x : x**2\n",
    "list(map(square, l1))"
   ]
  },
  {
   "cell_type": "raw",
   "id": "d1545119-2dd3-42fb-9884-7e3e789b7860",
   "metadata": {},
   "source": [
    "Q3:"
   ]
  },
  {
   "cell_type": "raw",
   "id": "0b3b8b9a-91d8-4711-917f-e475b86776ca",
   "metadata": {},
   "source": [
    "l2 = [1, 2, 3, 4, 5, 6, 7, 8, 9, 10]\n",
    "\n",
    "to_tuple = lambda : tuple(str(i) for i in l2)\n",
    "\n",
    "to_tuple()"
   ]
  },
  {
   "cell_type": "code",
   "execution_count": 17,
   "id": "d9b92af1-4e92-4a85-8296-53f1d669a148",
   "metadata": {},
   "outputs": [
    {
     "data": {
      "text/plain": [
       "('1', '2', '3', '4', '5', '6', '7', '8', '9', '10')"
      ]
     },
     "execution_count": 17,
     "metadata": {},
     "output_type": "execute_result"
    }
   ],
   "source": [
    "def into_tuple(x):\n",
    "    return str(x)\n",
    "\n",
    "tuple(map(into_tuple, l2))"
   ]
  },
  {
   "cell_type": "raw",
   "id": "1aeab1ab-979e-40ae-a09b-ffd3424e0845",
   "metadata": {},
   "source": [
    "Q4:"
   ]
  },
  {
   "cell_type": "code",
   "execution_count": 5,
   "id": "799d58d6-62f9-483f-8c59-4a62b948e485",
   "metadata": {},
   "outputs": [],
   "source": [
    "from functools import reduce"
   ]
  },
  {
   "cell_type": "code",
   "execution_count": 12,
   "id": "e683bb57-cb66-443f-bbf0-45dc473bfa44",
   "metadata": {},
   "outputs": [],
   "source": [
    "l2 = list(range(1,26))"
   ]
  },
  {
   "cell_type": "code",
   "execution_count": 13,
   "id": "7c914917-fc64-444d-8979-891f07fcc03f",
   "metadata": {},
   "outputs": [
    {
     "data": {
      "text/plain": [
       "15511210043330985984000000"
      ]
     },
     "execution_count": 13,
     "metadata": {},
     "output_type": "execute_result"
    }
   ],
   "source": [
    "reduce(lambda x,y : x*y, l2)"
   ]
  },
  {
   "cell_type": "code",
   "execution_count": null,
   "id": "7d27f617-584d-4dab-b2d4-f99c0d09b553",
   "metadata": {},
   "outputs": [],
   "source": [
    "Q5:"
   ]
  },
  {
   "cell_type": "code",
   "execution_count": 15,
   "id": "1e13e293-a3b3-4df4-9ad8-fbf401015881",
   "metadata": {},
   "outputs": [
    {
     "data": {
      "text/plain": [
       "[3, 6, 9, 27, 60, 90, 120, 55]"
      ]
     },
     "execution_count": 15,
     "metadata": {},
     "output_type": "execute_result"
    }
   ],
   "source": [
    "l3 = [2, 3, 6, 9, 27, 60, 90, 120, 55, 46]\n",
    "\n",
    "list(filter(lambda x : x % 3 == 0 or x % 5 == 0, l3))"
   ]
  },
  {
   "cell_type": "raw",
   "id": "e405fb65-de36-4655-8674-4a6e6cb4e431",
   "metadata": {},
   "source": [
    "Q6:"
   ]
  },
  {
   "cell_type": "code",
   "execution_count": 19,
   "id": "d2755257-dc7a-4ceb-8a87-b9c96bd14317",
   "metadata": {},
   "outputs": [
    {
     "data": {
      "text/plain": [
       "['php', 'aba', 'radar', 'level']"
      ]
     },
     "execution_count": 19,
     "metadata": {},
     "output_type": "execute_result"
    }
   ],
   "source": [
    "l4 = ['python', 'php', 'aba', 'radar', 'level']\n",
    "\n",
    "\n",
    "list(filter(lambda x : x == x[::-1], l4))"
   ]
  },
  {
   "cell_type": "code",
   "execution_count": null,
   "id": "610d4de6-6669-4259-b118-856e39d59693",
   "metadata": {},
   "outputs": [],
   "source": []
  }
 ],
 "metadata": {
  "kernelspec": {
   "display_name": "Python 3 (ipykernel)",
   "language": "python",
   "name": "python3"
  },
  "language_info": {
   "codemirror_mode": {
    "name": "ipython",
    "version": 3
   },
   "file_extension": ".py",
   "mimetype": "text/x-python",
   "name": "python",
   "nbconvert_exporter": "python",
   "pygments_lexer": "ipython3",
   "version": "3.10.8"
  }
 },
 "nbformat": 4,
 "nbformat_minor": 5
}
