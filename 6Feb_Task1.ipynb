{
 "cells": [
  {
   "cell_type": "code",
   "execution_count": 15,
   "id": "4e2ba7bf-a952-4f3f-a6ae-fb112aa6b12e",
   "metadata": {},
   "outputs": [],
   "source": [
    "def mult(a):\n",
    "    \n",
    "    newlist = []\n",
    "    for i in a:\n",
    "        if type(i) == int:\n",
    "            newlist.append(i)\n",
    "        elif type(i) == list:\n",
    "            for j in i:\n",
    "                if type(j) == int:\n",
    "                    newlist.append(j)\n",
    "        elif type(i) == tuple:\n",
    "            for k in i:\n",
    "                if type(k) == int:\n",
    "                    newlist.append(k)\n",
    "        elif type(i) == dict:\n",
    "            allkeys = list(i.keys())\n",
    "            allvalues = list(i.values())\n",
    "            for l in allkeys :\n",
    "                if type(l) == int:\n",
    "                    newlist.append(l)\n",
    "            for m in allvalues :\n",
    "                if type(m) == int:\n",
    "                    newlist.append(m)\n",
    "                elif type(m) == list or type(m) == tuple:\n",
    "                    for o in m:\n",
    "                        if type(o) == int:\n",
    "                            newlist.append(o)\n",
    "        elif type(i) == set:\n",
    "            for n in i:\n",
    "                if type(n) == int:\n",
    "                    newlist.append(n)\n",
    "                \n",
    "\n",
    "                \n",
    "    from functools import reduce\n",
    "\n",
    "    return reduce(lambda x, y : x * y , newlist)\n",
    "        "
   ]
  },
  {
   "cell_type": "code",
   "execution_count": 16,
   "id": "8683dc72-c060-4849-8498-fb1ca59dba49",
   "metadata": {},
   "outputs": [
    {
     "data": {
      "text/plain": [
       "4134711838987085478833841242112000"
      ]
     },
     "execution_count": 16,
     "metadata": {},
     "output_type": "execute_result"
    }
   ],
   "source": [
    "mult([1,2,3,4, [44,55,66, True], False, (34,56,78,89,34), {1,2,3,3,2,1}, {1:34, \"key2\": [55, 67, 78, 89], 4: (45,\n",
    "22, 61, 34)}, [56, 'data science'], 'Machine Learning'])"
   ]
  },
  {
   "cell_type": "code",
   "execution_count": 26,
   "id": "60a1c5ba-d5c6-47ab-b7d3-2bd29c06ae21",
   "metadata": {},
   "outputs": [],
   "source": [
    "def encrypt(string):\n",
    "    newstring = []\n",
    "    realstring = string.lower()\n",
    "    print(realstring)\n",
    "    \n",
    "    for i in realstring:\n",
    "        if i.isalpha() == True:\n",
    "            replace = 219 - ord(i)\n",
    "            newstring.append(chr(replace))\n",
    "        else :\n",
    "            newstring.append(i)\n",
    "            \n",
    "    return \"\".join(newstring)\n",
    "        \n",
    "        \n",
    "        \n",
    "    \n",
    "    \n",
    "        \n",
    "    \n",
    "    "
   ]
  },
  {
   "cell_type": "code",
   "execution_count": 33,
   "id": "708a2623-59c7-4154-a54e-57860311c5ce",
   "metadata": {},
   "outputs": [
    {
     "name": "stdout",
     "output_type": "stream",
     "text": [
      "i want to become a data scientist.\n"
     ]
    },
    {
     "data": {
      "text/plain": [
       "'r dzmg gl yvxlnv z wzgz hxrvmgrhg.'"
      ]
     },
     "execution_count": 33,
     "metadata": {},
     "output_type": "execute_result"
    }
   ],
   "source": [
    "encrypt(\"I want to become a Data Scientist.\")"
   ]
  },
  {
   "cell_type": "code",
   "execution_count": null,
   "id": "5b3703a4-8187-4faf-8c66-a626a4143a23",
   "metadata": {},
   "outputs": [],
   "source": []
  }
 ],
 "metadata": {
  "kernelspec": {
   "display_name": "Python 3 (ipykernel)",
   "language": "python",
   "name": "python3"
  },
  "language_info": {
   "codemirror_mode": {
    "name": "ipython",
    "version": 3
   },
   "file_extension": ".py",
   "mimetype": "text/x-python",
   "name": "python",
   "nbconvert_exporter": "python",
   "pygments_lexer": "ipython3",
   "version": "3.10.8"
  }
 },
 "nbformat": 4,
 "nbformat_minor": 5
}
